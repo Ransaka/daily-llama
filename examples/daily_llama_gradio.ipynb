{
  "nbformat": 4,
  "nbformat_minor": 0,
  "metadata": {
    "colab": {
      "provenance": [],
      "gpuType": "T4"
    },
    "kernelspec": {
      "name": "python3",
      "display_name": "Python 3"
    },
    "language_info": {
      "name": "python"
    },
    "accelerator": "GPU"
  },
  "cells": [
    {
      "cell_type": "code",
      "execution_count": 2,
      "metadata": {
        "colab": {
          "base_uri": "https://localhost:8080/"
        },
        "id": "uH_J7O9I0QtF",
        "outputId": "8874130a-c9ad-4540-81ed-2210bcee6207"
      },
      "outputs": [
        {
          "output_type": "stream",
          "name": "stdout",
          "text": [
            "fatal: destination path 'daily-llama' already exists and is not an empty directory.\n"
          ]
        }
      ],
      "source": [
        "!git clone https://github.com/Ransaka/daily-llama.git"
      ]
    },
    {
      "cell_type": "code",
      "source": [
        "%cd /content/daily-llama"
      ],
      "metadata": {
        "colab": {
          "base_uri": "https://localhost:8080/"
        },
        "id": "VBhYp58U0Szg",
        "outputId": "08ea4be3-8afc-47f3-cdb8-f91efdb6d630"
      },
      "execution_count": 3,
      "outputs": [
        {
          "output_type": "stream",
          "name": "stdout",
          "text": [
            "/content/daily-llama\n"
          ]
        }
      ]
    },
    {
      "cell_type": "code",
      "source": [
        "!pip install -r requirements.txt --q"
      ],
      "metadata": {
        "id": "6rdJPV1Q0zPE"
      },
      "execution_count": 4,
      "outputs": []
    },
    {
      "cell_type": "code",
      "source": [
        "!huggingface-cli login"
      ],
      "metadata": {
        "id": "x1FwG7KQ1Ob7"
      },
      "execution_count": null,
      "outputs": []
    },
    {
      "cell_type": "code",
      "source": [
        "!python server.py --dataset_path data/news-small.json --load_in_4bit True"
      ],
      "metadata": {
        "id": "S-EQL1dxuUZT",
        "outputId": "0543b26b-4fd0-4485-a2a0-9b52aabc17e4",
        "colab": {
          "base_uri": "https://localhost:8080/"
        }
      },
      "execution_count": null,
      "outputs": [
        {
          "output_type": "stream",
          "name": "stdout",
          "text": [
            "2023-08-05 12:53:25.859094: W tensorflow/compiler/tf2tensorrt/utils/py_utils.cc:38] TF-TRT Warning: Could not find TensorRT\n",
            "Map: 100% 2449/2449 [00:00<00:00, 13577.75 examples/s]\n",
            "Map: 100% 2449/2449 [00:01<00:00, 1572.06 examples/s]\n",
            "\u001b[1;32;40mEmbeddings Generated\u001b[0m\n",
            "Loading checkpoint shards: 100% 2/2 [01:31<00:00, 45.68s/it]\n",
            "Running on local URL:  http://127.0.0.1:7860\n",
            "Running on public URL: https://b9cb0ef5efbe49be9d.gradio.live\n",
            "\n",
            "This share link expires in 72 hours. For free permanent hosting and GPU upgrades, run `gradio deploy` from Terminal to deploy to Spaces (https://huggingface.co/spaces)\n",
            "\u001b[1;33;40mRetrieved documents\u001b[0m\n",
            " -\u001b[1;32;40mA trafficking racket was busted with the arrest of a 42-year-old Sri Lankan national on Tuesday. The man had allegedly duped several youth on the pretext on getting them jobs in Malaysia.\u001b[0m\n"
          ]
        }
      ]
    }
  ]
}