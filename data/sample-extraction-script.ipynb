{
 "cells": [
  {
   "cell_type": "code",
   "execution_count": 1,
   "id": "3fb874a3",
   "metadata": {
    "_cell_guid": "b1076dfc-b9ad-4769-8c92-a6c4dae69d19",
    "_uuid": "8f2839f25d086af736a60e9eeb907d3b93b6e0e5",
    "execution": {
     "iopub.execute_input": "2023-07-31T15:30:20.183174Z",
     "iopub.status.busy": "2023-07-31T15:30:20.182194Z",
     "iopub.status.idle": "2023-07-31T15:30:33.952631Z",
     "shell.execute_reply": "2023-07-31T15:30:33.951143Z"
    },
    "papermill": {
     "duration": 13.777301,
     "end_time": "2023-07-31T15:30:33.955310",
     "exception": false,
     "start_time": "2023-07-31T15:30:20.178009",
     "status": "completed"
    },
    "tags": []
   },
   "outputs": [
    {
     "name": "stderr",
     "output_type": "stream",
     "text": [
      "WARNING: Running pip as the 'root' user can result in broken permissions and conflicting behaviour with the system package manager. It is recommended to use a virtual environment instead: https://pip.pypa.io/warnings/venv\n"
     ]
    }
   ],
   "source": [
    "%%bash\n",
    "\n",
    "pip install scrapy --q"
   ]
  },
  {
   "cell_type": "code",
   "execution_count": 3,
   "id": "f50a166f",
   "metadata": {
    "execution": {
     "iopub.execute_input": "2023-07-31T15:30:33.972513Z",
     "iopub.status.busy": "2023-07-31T15:30:33.972175Z",
     "iopub.status.idle": "2023-07-31T15:30:33.992182Z",
     "shell.execute_reply": "2023-07-31T15:30:33.990568Z"
    },
    "papermill": {
     "duration": 0.025471,
     "end_time": "2023-07-31T15:30:33.994966",
     "exception": false,
     "start_time": "2023-07-31T15:30:33.969495",
     "status": "completed"
    },
    "tags": []
   },
   "outputs": [],
   "source": [
    "%%bash\n",
    "cat > myspider.py <<EOF\n",
    "import scrapy\n",
    "\n",
    "class MirrorSpider(scrapy.Spider):\n",
    "    name = 'spyder'\n",
    "    start_urls = ['PAST_LINK_HERE'] #https://www.dailymirror.lk/latest-news/108\n",
    "\n",
    "    def parse(self, response):\n",
    "        # Extract titles, content, and datetime\n",
    "        for news_item in response.xpath('//*[@id=\"breakingnewsads\"]/div[1]/div/div[1]/a'):\n",
    "            title = news_item.css('.cat-hd-tx::text').get()\n",
    "            content = news_item.xpath('p[2]/text()').get()\n",
    "            datetime = news_item.css('.gtime::text').get()\n",
    "            if title and content and datetime:\n",
    "                yield {\n",
    "                    'title': title.strip(),\n",
    "                    'content': content.strip(),\n",
    "                    'datetime': datetime.strip()\n",
    "                }\n",
    "\n",
    "        # Follow pagination links if available\n",
    "        next_page = response.css('.pagination li:last-child a::attr(href)').get()\n",
    "        if next_page:\n",
    "            yield response.follow(next_page, self.parse)\n",
    "EOF"
   ]
  },
  {
   "cell_type": "code",
   "execution_count": 4,
   "id": "1864cfac",
   "metadata": {
    "execution": {
     "iopub.execute_input": "2023-07-31T15:30:34.000062Z",
     "iopub.status.busy": "2023-07-31T15:30:33.999736Z",
     "iopub.status.idle": "2023-07-31T16:44:24.484473Z",
     "shell.execute_reply": "2023-07-31T16:44:24.483112Z"
    },
    "papermill": {
     "duration": 4430.490781,
     "end_time": "2023-07-31T16:44:24.487736",
     "exception": false,
     "start_time": "2023-07-31T15:30:33.996955",
     "status": "completed"
    },
    "tags": []
   },
   "outputs": [],
   "source": [
    "!scrapy runspider myspider.py -o daily-mirror.json --nolog"
   ]
  }
 ],
 "metadata": {
  "kernelspec": {
   "display_name": "Python 3",
   "language": "python",
   "name": "python3"
  },
  "language_info": {
   "codemirror_mode": {
    "name": "ipython",
    "version": 3
   },
   "file_extension": ".py",
   "mimetype": "text/x-python",
   "name": "python",
   "nbconvert_exporter": "python",
   "pygments_lexer": "ipython3",
   "version": "3.7.12"
  },
  "papermill": {
   "default_parameters": {},
   "duration": 4456.766451,
   "end_time": "2023-07-31T16:44:27.472159",
   "environment_variables": {},
   "exception": null,
   "input_path": "__notebook__.ipynb",
   "output_path": "__notebook__.ipynb",
   "parameters": {},
   "start_time": "2023-07-31T15:30:10.705708",
   "version": "2.4.0"
  }
 },
 "nbformat": 4,
 "nbformat_minor": 5
}
